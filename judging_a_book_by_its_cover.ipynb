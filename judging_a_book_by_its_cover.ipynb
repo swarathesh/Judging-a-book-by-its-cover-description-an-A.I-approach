{
  "nbformat": 4,
  "nbformat_minor": 0,
  "metadata": {
    "colab": {
      "name": "judging a book by its cover",
      "provenance": [],
      "authorship_tag": "ABX9TyOoaYCt0FV+h58vClkkjRT5",
      "include_colab_link": true
    },
    "kernelspec": {
      "name": "python3",
      "display_name": "Python 3"
    }
  },
  "cells": [
    {
      "cell_type": "markdown",
      "metadata": {
        "id": "view-in-github",
        "colab_type": "text"
      },
      "source": [
        "<a href=\"https://colab.research.google.com/github/swarathesh/Judging-a-book-by-its-cover-description-an-A.I-approach/blob/master/judging_a_book_by_its_cover.ipynb\" target=\"_parent\"><img src=\"https://colab.research.google.com/assets/colab-badge.svg\" alt=\"Open In Colab\"/></a>"
      ]
    },
    {
      "cell_type": "code",
      "metadata": {
        "id": "tUiMpZZWc7MW",
        "colab_type": "code",
        "outputId": "174608e5-b10c-4371-93d4-b8ce091d56ba",
        "colab": {
          "base_uri": "https://localhost:8080/",
          "height": 35
        }
      },
      "source": [
        "import os\n",
        "from sklearn.preprocessing import LabelBinarizer\n",
        "from sklearn.preprocessing import MinMaxScaler\n",
        "import numpy as np\n",
        "import random\n",
        "import matplotlib.pyplot as plt\n",
        "import pandas as pd\n",
        "import cv2\n",
        "import urllib.request\n",
        "\n",
        "\n",
        "from keras.optimizers import Adam\n",
        "from keras.models import Sequential\n",
        "from keras.layers.normalization import BatchNormalization\n",
        "from keras.layers.convolutional import Conv2D\n",
        "from keras.layers.convolutional import MaxPooling2D\n",
        "from keras.layers.core import Activation\n",
        "from keras.layers.core import Dropout\n",
        "from keras.layers.core import Dense\n",
        "from keras.layers import concatenate\n",
        "from keras.layers import Flatten\n",
        "from keras.layers import Input\n",
        "from keras.models import Model"
      ],
      "execution_count": 0,
      "outputs": [
        {
          "output_type": "stream",
          "text": [
            "Using TensorFlow backend.\n"
          ],
          "name": "stderr"
        }
      ]
    },
    {
      "cell_type": "code",
      "metadata": {
        "id": "y1N9KAzVYCbH",
        "colab_type": "code",
        "colab": {}
      },
      "source": [
        "!unzip goodreads-best-books-of-2018.zip"
      ],
      "execution_count": 0,
      "outputs": []
    },
    {
      "cell_type": "code",
      "metadata": {
        "id": "fG1mDk1j_N-u",
        "colab_type": "code",
        "outputId": "a88961ed-3d3f-4ff6-f970-05d67a25bfc8",
        "colab": {
          "base_uri": "https://localhost:8080/",
          "height": 400
        }
      },
      "source": [
        "df = pd.read_csv('book_data.csv')\n",
        "df.head()"
      ],
      "execution_count": 0,
      "outputs": [
        {
          "output_type": "execute_result",
          "data": {
            "text/html": [
              "<div>\n",
              "<style scoped>\n",
              "    .dataframe tbody tr th:only-of-type {\n",
              "        vertical-align: middle;\n",
              "    }\n",
              "\n",
              "    .dataframe tbody tr th {\n",
              "        vertical-align: top;\n",
              "    }\n",
              "\n",
              "    .dataframe thead th {\n",
              "        text-align: right;\n",
              "    }\n",
              "</style>\n",
              "<table border=\"1\" class=\"dataframe\">\n",
              "  <thead>\n",
              "    <tr style=\"text-align: right;\">\n",
              "      <th></th>\n",
              "      <th>book_authors</th>\n",
              "      <th>book_desc</th>\n",
              "      <th>book_edition</th>\n",
              "      <th>book_format</th>\n",
              "      <th>book_isbn</th>\n",
              "      <th>book_pages</th>\n",
              "      <th>book_rating</th>\n",
              "      <th>book_rating_count</th>\n",
              "      <th>book_review_count</th>\n",
              "      <th>book_title</th>\n",
              "      <th>genres</th>\n",
              "      <th>image_url</th>\n",
              "    </tr>\n",
              "  </thead>\n",
              "  <tbody>\n",
              "    <tr>\n",
              "      <th>0</th>\n",
              "      <td>Kristin Hannah</td>\n",
              "      <td>Alaska, 1974.Unpredictable. Unforgiving. Untam...</td>\n",
              "      <td>NaN</td>\n",
              "      <td>Kindle Edition</td>\n",
              "      <td>NaN</td>\n",
              "      <td>435 pages</td>\n",
              "      <td>4.33</td>\n",
              "      <td>146505</td>\n",
              "      <td>17438</td>\n",
              "      <td>The Great Alone</td>\n",
              "      <td>Fiction|Historical|Historical Fiction|Audioboo...</td>\n",
              "      <td>https://images.gr-assets.com/books/1501852423l...</td>\n",
              "    </tr>\n",
              "    <tr>\n",
              "      <th>1</th>\n",
              "      <td>Madeline Miller</td>\n",
              "      <td>In the house of Helios, god of the sun and mig...</td>\n",
              "      <td>NaN</td>\n",
              "      <td>Hardcover</td>\n",
              "      <td>9.780000e+12</td>\n",
              "      <td>393 pages</td>\n",
              "      <td>4.34</td>\n",
              "      <td>61357</td>\n",
              "      <td>9369</td>\n",
              "      <td>Circe</td>\n",
              "      <td>Fantasy|Fiction|Fantasy|Mythology|Historical|H...</td>\n",
              "      <td>https://images.gr-assets.com/books/1508879575l...</td>\n",
              "    </tr>\n",
              "    <tr>\n",
              "      <th>2</th>\n",
              "      <td>Holly Black</td>\n",
              "      <td>Of course I want to be like them. They’re beau...</td>\n",
              "      <td>NaN</td>\n",
              "      <td>Hardcover</td>\n",
              "      <td>9.780000e+12</td>\n",
              "      <td>370 pages</td>\n",
              "      <td>4.18</td>\n",
              "      <td>62897</td>\n",
              "      <td>11948</td>\n",
              "      <td>The Cruel Prince</td>\n",
              "      <td>Fantasy|Young Adult|Fairies|Fae</td>\n",
              "      <td>https://images.gr-assets.com/books/1493047153l...</td>\n",
              "    </tr>\n",
              "    <tr>\n",
              "      <th>3</th>\n",
              "      <td>A.J. Finn</td>\n",
              "      <td>Anna Fox lives alone—a recluse in her New York...</td>\n",
              "      <td>NaN</td>\n",
              "      <td>Kindle Edition</td>\n",
              "      <td>NaN</td>\n",
              "      <td>449 pages</td>\n",
              "      <td>3.97</td>\n",
              "      <td>175678</td>\n",
              "      <td>20645</td>\n",
              "      <td>The Woman in the Window</td>\n",
              "      <td>Mystery|Thriller|Fiction|Suspense|Thriller|Mys...</td>\n",
              "      <td>https://images.gr-assets.com/books/1528225499l...</td>\n",
              "    </tr>\n",
              "    <tr>\n",
              "      <th>4</th>\n",
              "      <td>Tara Westover</td>\n",
              "      <td>An unforgettable memoir in the tradition of Th...</td>\n",
              "      <td>NaN</td>\n",
              "      <td>Hardcover</td>\n",
              "      <td>9.780000e+12</td>\n",
              "      <td>334 pages</td>\n",
              "      <td>4.47</td>\n",
              "      <td>128337</td>\n",
              "      <td>16424</td>\n",
              "      <td>Educated</td>\n",
              "      <td>Nonfiction|Autobiography|Memoir|Biography</td>\n",
              "      <td>https://images.gr-assets.com/books/1506026635l...</td>\n",
              "    </tr>\n",
              "  </tbody>\n",
              "</table>\n",
              "</div>"
            ],
            "text/plain": [
              "      book_authors  ...                                          image_url\n",
              "0   Kristin Hannah  ...  https://images.gr-assets.com/books/1501852423l...\n",
              "1  Madeline Miller  ...  https://images.gr-assets.com/books/1508879575l...\n",
              "2      Holly Black  ...  https://images.gr-assets.com/books/1493047153l...\n",
              "3        A.J. Finn  ...  https://images.gr-assets.com/books/1528225499l...\n",
              "4    Tara Westover  ...  https://images.gr-assets.com/books/1506026635l...\n",
              "\n",
              "[5 rows x 12 columns]"
            ]
          },
          "metadata": {
            "tags": []
          },
          "execution_count": 184
        }
      ]
    },
    {
      "cell_type": "code",
      "metadata": {
        "id": "z7BsDUQaUcnF",
        "colab_type": "code",
        "outputId": "d8f8d569-e8ad-4488-d10d-89f8fc398b92",
        "colab": {
          "base_uri": "https://localhost:8080/",
          "height": 88
        }
      },
      "source": [
        "df.columns"
      ],
      "execution_count": 0,
      "outputs": [
        {
          "output_type": "execute_result",
          "data": {
            "text/plain": [
              "Index(['book_authors', 'book_desc', 'book_edition', 'book_format', 'book_isbn',\n",
              "       'book_pages', 'book_rating', 'book_rating_count', 'book_review_count',\n",
              "       'book_title', 'genres', 'image_url'],\n",
              "      dtype='object')"
            ]
          },
          "metadata": {
            "tags": []
          },
          "execution_count": 185
        }
      ]
    },
    {
      "cell_type": "code",
      "metadata": {
        "id": "zRlJQYHTUNfT",
        "colab_type": "code",
        "colab": {}
      },
      "source": [
        "df = df.drop([ 'book_edition', 'book_format', 'book_isbn'],axis=1)"
      ],
      "execution_count": 0,
      "outputs": []
    },
    {
      "cell_type": "markdown",
      "metadata": {
        "id": "LJmYhXliA7ym",
        "colab_type": "text"
      },
      "source": [
        "* so our dataset has a minimum of 2.88 rating and max of 5 rating."
      ]
    },
    {
      "cell_type": "code",
      "metadata": {
        "id": "EfdOJsYb_h8J",
        "colab_type": "code",
        "colab": {}
      },
      "source": [
        "# import os \n",
        "# os.mkdir('/content/gdrive/My Drive/dataset/BookImages')"
      ],
      "execution_count": 0,
      "outputs": []
    },
    {
      "cell_type": "code",
      "metadata": {
        "id": "0ajQxQeZO2mf",
        "colab_type": "code",
        "colab": {}
      },
      "source": [
        "df = df.reset_index()\n",
        "\n"
      ],
      "execution_count": 0,
      "outputs": []
    },
    {
      "cell_type": "code",
      "metadata": {
        "id": "bhAliJFIO-SM",
        "colab_type": "code",
        "outputId": "b0d07d95-0a03-4f2c-c90c-0b313b732b75",
        "colab": {
          "base_uri": "https://localhost:8080/",
          "height": 35
        }
      },
      "source": [
        "df.shape"
      ],
      "execution_count": 0,
      "outputs": [
        {
          "output_type": "execute_result",
          "data": {
            "text/plain": [
              "(1141, 10)"
            ]
          },
          "metadata": {
            "tags": []
          },
          "execution_count": 189
        }
      ]
    },
    {
      "cell_type": "markdown",
      "metadata": {
        "id": "K8FH-akEVEA8",
        "colab_type": "text"
      },
      "source": [
        "# CLean Data "
      ]
    },
    {
      "cell_type": "code",
      "metadata": {
        "id": "gxXwu8gtaF_r",
        "colab_type": "code",
        "colab": {}
      },
      "source": [
        "df.book_pages = df.book_pages.str.extract('(^\\d*)')"
      ],
      "execution_count": 0,
      "outputs": []
    },
    {
      "cell_type": "markdown",
      "metadata": {
        "id": "snR6j8Q2a_GA",
        "colab_type": "text"
      },
      "source": [
        "* There are still NAN in book pages fill it with mean "
      ]
    },
    {
      "cell_type": "code",
      "metadata": {
        "id": "nvWcm4yZa9la",
        "colab_type": "code",
        "colab": {}
      },
      "source": [
        "dx = df.book_pages.dropna().astype(int).mean()\n"
      ],
      "execution_count": 0,
      "outputs": []
    },
    {
      "cell_type": "markdown",
      "metadata": {
        "id": "LlEC26mncSmR",
        "colab_type": "text"
      },
      "source": [
        "* so the mean is "
      ]
    },
    {
      "cell_type": "code",
      "metadata": {
        "id": "Iqf9hSYNUDYH",
        "colab_type": "code",
        "outputId": "b10727f7-ebb3-425d-eaaa-1900aa1430ab",
        "colab": {
          "base_uri": "https://localhost:8080/",
          "height": 35
        }
      },
      "source": [
        "dx"
      ],
      "execution_count": 0,
      "outputs": [
        {
          "output_type": "execute_result",
          "data": {
            "text/plain": [
              "327.9000933706816"
            ]
          },
          "metadata": {
            "tags": []
          },
          "execution_count": 192
        }
      ]
    },
    {
      "cell_type": "code",
      "metadata": {
        "id": "ZmjYJB_scbz3",
        "colab_type": "code",
        "colab": {}
      },
      "source": [
        "df.book_pages  = df.book_pages.fillna('327.9')"
      ],
      "execution_count": 0,
      "outputs": []
    },
    {
      "cell_type": "code",
      "metadata": {
        "id": "59PalAINdH2B",
        "colab_type": "code",
        "outputId": "d354572b-738f-4187-86ff-b2084a9ebe92",
        "colab": {
          "base_uri": "https://localhost:8080/",
          "height": 400
        }
      },
      "source": [
        "df.head()"
      ],
      "execution_count": 0,
      "outputs": [
        {
          "output_type": "execute_result",
          "data": {
            "text/html": [
              "<div>\n",
              "<style scoped>\n",
              "    .dataframe tbody tr th:only-of-type {\n",
              "        vertical-align: middle;\n",
              "    }\n",
              "\n",
              "    .dataframe tbody tr th {\n",
              "        vertical-align: top;\n",
              "    }\n",
              "\n",
              "    .dataframe thead th {\n",
              "        text-align: right;\n",
              "    }\n",
              "</style>\n",
              "<table border=\"1\" class=\"dataframe\">\n",
              "  <thead>\n",
              "    <tr style=\"text-align: right;\">\n",
              "      <th></th>\n",
              "      <th>index</th>\n",
              "      <th>book_authors</th>\n",
              "      <th>book_desc</th>\n",
              "      <th>book_pages</th>\n",
              "      <th>book_rating</th>\n",
              "      <th>book_rating_count</th>\n",
              "      <th>book_review_count</th>\n",
              "      <th>book_title</th>\n",
              "      <th>genres</th>\n",
              "      <th>image_url</th>\n",
              "    </tr>\n",
              "  </thead>\n",
              "  <tbody>\n",
              "    <tr>\n",
              "      <th>0</th>\n",
              "      <td>0</td>\n",
              "      <td>Kristin Hannah</td>\n",
              "      <td>Alaska, 1974.Unpredictable. Unforgiving. Untam...</td>\n",
              "      <td>435</td>\n",
              "      <td>4.33</td>\n",
              "      <td>146505</td>\n",
              "      <td>17438</td>\n",
              "      <td>The Great Alone</td>\n",
              "      <td>Fiction|Historical|Historical Fiction|Audioboo...</td>\n",
              "      <td>https://images.gr-assets.com/books/1501852423l...</td>\n",
              "    </tr>\n",
              "    <tr>\n",
              "      <th>1</th>\n",
              "      <td>1</td>\n",
              "      <td>Madeline Miller</td>\n",
              "      <td>In the house of Helios, god of the sun and mig...</td>\n",
              "      <td>393</td>\n",
              "      <td>4.34</td>\n",
              "      <td>61357</td>\n",
              "      <td>9369</td>\n",
              "      <td>Circe</td>\n",
              "      <td>Fantasy|Fiction|Fantasy|Mythology|Historical|H...</td>\n",
              "      <td>https://images.gr-assets.com/books/1508879575l...</td>\n",
              "    </tr>\n",
              "    <tr>\n",
              "      <th>2</th>\n",
              "      <td>2</td>\n",
              "      <td>Holly Black</td>\n",
              "      <td>Of course I want to be like them. They’re beau...</td>\n",
              "      <td>370</td>\n",
              "      <td>4.18</td>\n",
              "      <td>62897</td>\n",
              "      <td>11948</td>\n",
              "      <td>The Cruel Prince</td>\n",
              "      <td>Fantasy|Young Adult|Fairies|Fae</td>\n",
              "      <td>https://images.gr-assets.com/books/1493047153l...</td>\n",
              "    </tr>\n",
              "    <tr>\n",
              "      <th>3</th>\n",
              "      <td>3</td>\n",
              "      <td>A.J. Finn</td>\n",
              "      <td>Anna Fox lives alone—a recluse in her New York...</td>\n",
              "      <td>449</td>\n",
              "      <td>3.97</td>\n",
              "      <td>175678</td>\n",
              "      <td>20645</td>\n",
              "      <td>The Woman in the Window</td>\n",
              "      <td>Mystery|Thriller|Fiction|Suspense|Thriller|Mys...</td>\n",
              "      <td>https://images.gr-assets.com/books/1528225499l...</td>\n",
              "    </tr>\n",
              "    <tr>\n",
              "      <th>4</th>\n",
              "      <td>4</td>\n",
              "      <td>Tara Westover</td>\n",
              "      <td>An unforgettable memoir in the tradition of Th...</td>\n",
              "      <td>334</td>\n",
              "      <td>4.47</td>\n",
              "      <td>128337</td>\n",
              "      <td>16424</td>\n",
              "      <td>Educated</td>\n",
              "      <td>Nonfiction|Autobiography|Memoir|Biography</td>\n",
              "      <td>https://images.gr-assets.com/books/1506026635l...</td>\n",
              "    </tr>\n",
              "  </tbody>\n",
              "</table>\n",
              "</div>"
            ],
            "text/plain": [
              "   index  ...                                          image_url\n",
              "0      0  ...  https://images.gr-assets.com/books/1501852423l...\n",
              "1      1  ...  https://images.gr-assets.com/books/1508879575l...\n",
              "2      2  ...  https://images.gr-assets.com/books/1493047153l...\n",
              "3      3  ...  https://images.gr-assets.com/books/1528225499l...\n",
              "4      4  ...  https://images.gr-assets.com/books/1506026635l...\n",
              "\n",
              "[5 rows x 10 columns]"
            ]
          },
          "metadata": {
            "tags": []
          },
          "execution_count": 194
        }
      ]
    },
    {
      "cell_type": "code",
      "metadata": {
        "id": "ZtIBKEHEctzQ",
        "colab_type": "code",
        "outputId": "a09668e2-b689-4d07-bd5f-a23073153002",
        "colab": {
          "base_uri": "https://localhost:8080/",
          "height": 35
        }
      },
      "source": [
        "df.book_pages.isna().sum()"
      ],
      "execution_count": 0,
      "outputs": [
        {
          "output_type": "execute_result",
          "data": {
            "text/plain": [
              "0"
            ]
          },
          "metadata": {
            "tags": []
          },
          "execution_count": 195
        }
      ]
    },
    {
      "cell_type": "code",
      "metadata": {
        "id": "8j2u5fghgkHh",
        "colab_type": "code",
        "colab": {}
      },
      "source": [
        "import re"
      ],
      "execution_count": 0,
      "outputs": []
    },
    {
      "cell_type": "markdown",
      "metadata": {
        "id": "9p6lvZ39W_15",
        "colab_type": "text"
      },
      "source": [
        "* first genre "
      ]
    },
    {
      "cell_type": "code",
      "metadata": {
        "id": "wFi7Kn2oXC48",
        "colab_type": "code",
        "outputId": "4defadbe-8533-467d-9c36-2d76bc3db10e",
        "colab": {
          "base_uri": "https://localhost:8080/",
          "height": 126
        }
      },
      "source": [
        "for i in df.index:\n",
        "  temp = df.genres[df.index == i].astype(str)\n",
        "  temp = temp.str.split('|')\n",
        "  temp = str(temp.str[0:1])\n",
        "  temp = re.match(r\"[^[]*\\[([^]]*)\\]\", temp).groups()[0]\n",
        "  df.genres[df.index == i ] = str(temp)\n",
        "  "
      ],
      "execution_count": 0,
      "outputs": [
        {
          "output_type": "stream",
          "text": [
            "/usr/local/lib/python3.6/dist-packages/ipykernel_launcher.py:6: SettingWithCopyWarning: \n",
            "A value is trying to be set on a copy of a slice from a DataFrame\n",
            "\n",
            "See the caveats in the documentation: https://pandas.pydata.org/pandas-docs/stable/user_guide/indexing.html#returning-a-view-versus-a-copy\n",
            "  \n"
          ],
          "name": "stderr"
        }
      ]
    },
    {
      "cell_type": "markdown",
      "metadata": {
        "id": "hNTZwbyl0hci",
        "colab_type": "text"
      },
      "source": [
        "*first author \n"
      ]
    },
    {
      "cell_type": "code",
      "metadata": {
        "id": "awumV9_60grv",
        "colab_type": "code",
        "outputId": "b4367cd3-a982-44cd-ef6c-cea66f9cc1b6",
        "colab": {
          "base_uri": "https://localhost:8080/",
          "height": 126
        }
      },
      "source": [
        "for i in df.index:\n",
        "  temp = df.book_authors[df.index == i].astype(str)\n",
        "  temp = temp.str.split('|')\n",
        "  temp = str(temp.str[0:1])\n",
        "  temp = re.match(r\"[^[]*\\[([^]]*)\\]\", temp).groups()[0]\n",
        "  df.book_authors[df.index == i ] = str(temp)"
      ],
      "execution_count": 0,
      "outputs": [
        {
          "output_type": "stream",
          "text": [
            "/usr/local/lib/python3.6/dist-packages/ipykernel_launcher.py:6: SettingWithCopyWarning: \n",
            "A value is trying to be set on a copy of a slice from a DataFrame\n",
            "\n",
            "See the caveats in the documentation: https://pandas.pydata.org/pandas-docs/stable/user_guide/indexing.html#returning-a-view-versus-a-copy\n",
            "  \n"
          ],
          "name": "stderr"
        }
      ]
    },
    {
      "cell_type": "code",
      "metadata": {
        "id": "sZ2M1FUrheqK",
        "colab_type": "code",
        "colab": {}
      },
      "source": [
        "df.book_desc = df.book_desc.fillna('empty')"
      ],
      "execution_count": 0,
      "outputs": []
    },
    {
      "cell_type": "code",
      "metadata": {
        "id": "m6RD89GohYW_",
        "colab_type": "code",
        "outputId": "0d8342ca-ae13-43f1-96e1-1f42fbe3ae63",
        "colab": {
          "base_uri": "https://localhost:8080/",
          "height": 212
        }
      },
      "source": [
        "df.isna().sum()"
      ],
      "execution_count": 0,
      "outputs": [
        {
          "output_type": "execute_result",
          "data": {
            "text/plain": [
              "index                0\n",
              "book_authors         0\n",
              "book_desc            0\n",
              "book_pages           0\n",
              "book_rating          0\n",
              "book_rating_count    0\n",
              "book_review_count    0\n",
              "book_title           0\n",
              "genres               0\n",
              "image_url            4\n",
              "dtype: int64"
            ]
          },
          "metadata": {
            "tags": []
          },
          "execution_count": 199
        }
      ]
    },
    {
      "cell_type": "markdown",
      "metadata": {
        "id": "rjmf2u3xiKwK",
        "colab_type": "text"
      },
      "source": [
        "* cleaned!"
      ]
    },
    {
      "cell_type": "markdown",
      "metadata": {
        "id": "9iHZkdyPiXf5",
        "colab_type": "text"
      },
      "source": [
        "# Load Images into an array "
      ]
    },
    {
      "cell_type": "code",
      "metadata": {
        "id": "DnsISkypiJ-K",
        "colab_type": "code",
        "colab": {}
      },
      "source": [
        "def load_images(df, input_path):\n",
        "    images = []\n",
        "    for i in df.index:\n",
        "        path = input_path + \"/\" + str(i) + '.jpg'\n",
        "       # print(path)\n",
        "        image = cv2.imread(path)\n",
        "        outputImage = cv2.resize(image, (32, 32))\n",
        "        images.append(outputImage)\n",
        "    return np.array(images)"
      ],
      "execution_count": 0,
      "outputs": []
    },
    {
      "cell_type": "code",
      "metadata": {
        "id": "VyyCVXnalWBa",
        "colab_type": "code",
        "outputId": "c04a11f4-b5cd-4192-df12-22f6c2874132",
        "colab": {
          "base_uri": "https://localhost:8080/",
          "height": 35
        }
      },
      "source": [
        "df = df.dropna()\n",
        "df.shape"
      ],
      "execution_count": 0,
      "outputs": [
        {
          "output_type": "execute_result",
          "data": {
            "text/plain": [
              "(1137, 10)"
            ]
          },
          "metadata": {
            "tags": []
          },
          "execution_count": 203
        }
      ]
    },
    {
      "cell_type": "code",
      "metadata": {
        "id": "pupbijishnJv",
        "colab_type": "code",
        "colab": {}
      },
      "source": [
        "input_path = './images/images'\n",
        "images = load_images(df,input_path)"
      ],
      "execution_count": 0,
      "outputs": []
    },
    {
      "cell_type": "markdown",
      "metadata": {
        "id": "D8oBNQh6lt1V",
        "colab_type": "text"
      },
      "source": [
        "* Normalize"
      ]
    },
    {
      "cell_type": "code",
      "metadata": {
        "id": "Rsix3aGYkn5J",
        "colab_type": "code",
        "colab": {}
      },
      "source": [
        "images = images/255"
      ],
      "execution_count": 0,
      "outputs": []
    },
    {
      "cell_type": "code",
      "metadata": {
        "id": "1hZk51MTrQqo",
        "colab_type": "code",
        "outputId": "8c72302c-8eb3-4528-fe1a-0b2602577866",
        "colab": {
          "base_uri": "https://localhost:8080/",
          "height": 35
        }
      },
      "source": [
        "images.shape"
      ],
      "execution_count": 0,
      "outputs": [
        {
          "output_type": "execute_result",
          "data": {
            "text/plain": [
              "(1137, 32, 32, 3)"
            ]
          },
          "metadata": {
            "tags": []
          },
          "execution_count": 212
        }
      ]
    },
    {
      "cell_type": "markdown",
      "metadata": {
        "id": "_Hfb8f7ZmEwl",
        "colab_type": "text"
      },
      "source": [
        "# train- test split \n",
        "* 90% train \n",
        "* 10% test "
      ]
    },
    {
      "cell_type": "code",
      "metadata": {
        "id": "GU8ROjC6l7SL",
        "colab_type": "code",
        "colab": {}
      },
      "source": [
        "    n = 100\n",
        "    allbooks = random.sample(list(df.index), n)\n",
        "    split_train = np.around(n * 0.90)\n",
        "    train = df[df['index'].isin(allbooks[0:int(split_train) ])]\n",
        "    test = df[df['index'].isin(allbooks[int(split_train):n])]\n"
      ],
      "execution_count": 0,
      "outputs": []
    },
    {
      "cell_type": "markdown",
      "metadata": {
        "id": "0sNjWX6Qpyv8",
        "colab_type": "text"
      },
      "source": [
        "# Judging a book by its cover.\n",
        "* load image and its associated rating "
      ]
    },
    {
      "cell_type": "code",
      "metadata": {
        "id": "hWI_R7jgncWJ",
        "colab_type": "code",
        "colab": {}
      },
      "source": [
        "train_Y = train.book_rating\n",
        "test_Y = test.book_rating\n",
        "\n",
        "train_images = []\n",
        "for j in train.index:\n",
        "  \n",
        "   train_images.append(images[j-1])\n",
        "\n",
        "test_images = []\n",
        "for j in test.index:\n",
        " \n",
        "    test_images.append(images[j-1])\n",
        "\n",
        "train_Y = np.asarray(train_Y) / 5\n",
        "test_Y = np.asarray(test_Y) / 5\n",
        "train_x = np.asarray(train_images)\n",
        "test_x = np.asarray(test_images)\n"
      ],
      "execution_count": 0,
      "outputs": []
    },
    {
      "cell_type": "markdown",
      "metadata": {
        "id": "_J17hjI5wIV8",
        "colab_type": "text"
      },
      "source": [
        "# Custom Cnn Model "
      ]
    },
    {
      "cell_type": "code",
      "metadata": {
        "id": "GYhjQrmzwTCr",
        "colab_type": "code",
        "colab": {}
      },
      "source": [
        "def create_cnn( height, width, depth, filters=(16, 32, 64), regress=False):\n",
        "        # initialize the input shape and channel dimension, assuming\n",
        "        # TensorFlow/channels-last ordering\n",
        "\n",
        "        filters = np.asarray(filters)\n",
        "        input_shape = (height, width, depth)\n",
        "        chanDim = -1\n",
        "\n",
        "        # define the model input\n",
        "        inputs = Input(shape=input_shape)\n",
        "\n",
        "        # loop over the number of filters\n",
        "        for i in range(filters.shape[0]):\n",
        "            # if this is the first CONV layer then set the input\n",
        "            # appropriately\n",
        "            f = filters[i]\n",
        "            if i == 0:\n",
        "                x = inputs\n",
        "\n",
        "            # CONV => RELU => BN => POOL\n",
        "            x = Conv2D(f, (3, 3), padding=\"same\")(x)\n",
        "            x = Activation(\"relu\")(x)\n",
        "            x = BatchNormalization(axis=chanDim)(x)\n",
        "            x = MaxPooling2D(pool_size=(2, 2))(x)\n",
        "\n",
        "        # flatten the volume, then FC => RELU => BN => DROPOUT\n",
        "        x = Flatten()(x)\n",
        "        x = Dense(16)(x)\n",
        "        x = Activation(\"relu\")(x)\n",
        "        x = BatchNormalization(axis=chanDim)(x)\n",
        "        x = Dropout(0.5)(x)\n",
        "\n",
        "        # apply another FC layer, this one to match the number of nodes\n",
        "        # coming out of the MLP\n",
        "        x = Dense(4)(x)\n",
        "        x = Activation(\"relu\")(x)\n",
        "\n",
        "        # check to see if the regression node should be added\n",
        "        if regress:\n",
        "            x = Dense(1, activation=\"linear\")(x)\n",
        "\n",
        "        # construct the CNN\n",
        "        model = Model(inputs, x)\n",
        "\n",
        "        # return the CNN\n",
        "        return model"
      ],
      "execution_count": 0,
      "outputs": []
    },
    {
      "cell_type": "code",
      "metadata": {
        "id": "B_BMAWB1wlvt",
        "colab_type": "code",
        "colab": {}
      },
      "source": [
        "model = create_cnn(32, 32, 3, regress=True)"
      ],
      "execution_count": 0,
      "outputs": []
    },
    {
      "cell_type": "code",
      "metadata": {
        "id": "pavm562dxEa7",
        "colab_type": "code",
        "colab": {}
      },
      "source": [
        "opt = Adam(lr=1e-3, decay=1e-3 / 200)\n",
        "model.compile(loss=\"mean_absolute_percentage_error\", optimizer=opt)"
      ],
      "execution_count": 0,
      "outputs": []
    },
    {
      "cell_type": "code",
      "metadata": {
        "id": "GQpWo8rexN2s",
        "colab_type": "code",
        "outputId": "74e081db-84bd-4655-b3d3-2aa44cfe5b66",
        "colab": {
          "base_uri": "https://localhost:8080/",
          "height": 746
        }
      },
      "source": [
        "history  = model.fit(train_x,train_Y,validation_data=(test_x,test_Y),epochs=20,batch_size=8)"
      ],
      "execution_count": 0,
      "outputs": [
        {
          "output_type": "stream",
          "text": [
            "Train on 90 samples, validate on 10 samples\n",
            "Epoch 1/20\n",
            "90/90 [==============================] - 1s 11ms/step - loss: 199.3523 - val_loss: 98.1140\n",
            "Epoch 2/20\n",
            "90/90 [==============================] - 0s 2ms/step - loss: 178.8852 - val_loss: 96.9355\n",
            "Epoch 3/20\n",
            "90/90 [==============================] - 0s 2ms/step - loss: 160.9740 - val_loss: 95.4147\n",
            "Epoch 4/20\n",
            "90/90 [==============================] - 0s 2ms/step - loss: 142.2316 - val_loss: 93.8714\n",
            "Epoch 5/20\n",
            "90/90 [==============================] - 0s 3ms/step - loss: 132.5651 - val_loss: 92.0734\n",
            "Epoch 6/20\n",
            "90/90 [==============================] - 0s 2ms/step - loss: 119.5358 - val_loss: 90.7653\n",
            "Epoch 7/20\n",
            "90/90 [==============================] - 0s 2ms/step - loss: 118.2869 - val_loss: 91.1290\n",
            "Epoch 8/20\n",
            "90/90 [==============================] - 0s 2ms/step - loss: 99.7044 - val_loss: 97.5334\n",
            "Epoch 9/20\n",
            "90/90 [==============================] - 0s 2ms/step - loss: 90.0603 - val_loss: 103.5919\n",
            "Epoch 10/20\n",
            "90/90 [==============================] - 0s 2ms/step - loss: 80.8496 - val_loss: 105.6637\n",
            "Epoch 11/20\n",
            "90/90 [==============================] - 0s 2ms/step - loss: 81.0190 - val_loss: 95.8414\n",
            "Epoch 12/20\n",
            "90/90 [==============================] - 0s 2ms/step - loss: 77.8233 - val_loss: 104.6866\n",
            "Epoch 13/20\n",
            "90/90 [==============================] - 0s 2ms/step - loss: 69.7344 - val_loss: 122.4131\n",
            "Epoch 14/20\n",
            "90/90 [==============================] - 0s 2ms/step - loss: 66.4817 - val_loss: 131.3623\n",
            "Epoch 15/20\n",
            "90/90 [==============================] - 0s 2ms/step - loss: 59.1556 - val_loss: 131.6307\n",
            "Epoch 16/20\n",
            "90/90 [==============================] - 0s 2ms/step - loss: 48.6216 - val_loss: 135.2506\n",
            "Epoch 17/20\n",
            "90/90 [==============================] - 0s 2ms/step - loss: 53.2895 - val_loss: 125.2032\n",
            "Epoch 18/20\n",
            "90/90 [==============================] - 0s 2ms/step - loss: 52.4531 - val_loss: 109.0364\n",
            "Epoch 19/20\n",
            "90/90 [==============================] - 0s 2ms/step - loss: 50.4513 - val_loss: 96.1084\n",
            "Epoch 20/20\n",
            "90/90 [==============================] - 0s 2ms/step - loss: 46.0311 - val_loss: 84.4449\n"
          ],
          "name": "stdout"
        }
      ]
    },
    {
      "cell_type": "code",
      "metadata": {
        "id": "4IQ1k6AYx3jf",
        "colab_type": "code",
        "colab": {}
      },
      "source": [
        "preds_test = model.predict(test_x)\n",
        "preds_train = model.predict(train_x)"
      ],
      "execution_count": 0,
      "outputs": []
    },
    {
      "cell_type": "code",
      "metadata": {
        "id": "6Lq4xg_MyFFQ",
        "colab_type": "code",
        "colab": {}
      },
      "source": [
        "diff = preds_test.flatten() - test_Y\n",
        "percentDiff = (diff / test_Y) * 100\n",
        "absPercentDiff = np.abs(percentDiff)\n",
        "mean = np.mean(absPercentDiff)\n",
        "std = np.std(absPercentDiff)\n"
      ],
      "execution_count": 0,
      "outputs": []
    },
    {
      "cell_type": "code",
      "metadata": {
        "id": "L3B65WRJyRI-",
        "colab_type": "code",
        "outputId": "23f8f1d8-c1f2-4d33-ba01-5e3717e9bc91",
        "colab": {
          "base_uri": "https://localhost:8080/",
          "height": 52
        }
      },
      "source": [
        "print(model.evaluate(train_x,train_Y))"
      ],
      "execution_count": 0,
      "outputs": [
        {
          "output_type": "stream",
          "text": [
            "90/90 [==============================] - 0s 585us/step\n",
            "85.18101993136936\n"
          ],
          "name": "stdout"
        }
      ]
    },
    {
      "cell_type": "code",
      "metadata": {
        "id": "vfgJ6bkIzxh_",
        "colab_type": "code",
        "outputId": "1395fac1-280e-4477-ab28-8d61568fddc4",
        "colab": {
          "base_uri": "https://localhost:8080/",
          "height": 88
        }
      },
      "source": [
        "train.columns"
      ],
      "execution_count": 0,
      "outputs": [
        {
          "output_type": "execute_result",
          "data": {
            "text/plain": [
              "Index(['index', 'book_authors', 'book_desc', 'book_pages', 'book_rating',\n",
              "       'book_rating_count', 'book_review_count', 'book_title', 'genres',\n",
              "       'image_url'],\n",
              "      dtype='object')"
            ]
          },
          "metadata": {
            "tags": []
          },
          "execution_count": 296
        }
      ]
    },
    {
      "cell_type": "markdown",
      "metadata": {
        "id": "LYyxYL9l2AVV",
        "colab_type": "text"
      },
      "source": [
        "# judging Book by it's description "
      ]
    },
    {
      "cell_type": "code",
      "metadata": {
        "id": "N6VArjjlyXyM",
        "colab_type": "code",
        "colab": {}
      },
      "source": [
        "\n",
        "\n",
        "    # Continous data\n",
        "cont = [\"book_rating_count\", \"book_review_count\",\"book_pages\"]\n",
        "cs = MinMaxScaler()\n",
        "\n",
        "trainCont = cs.fit_transform(train[cont])\n",
        "testCont = cs.transform(test[cont])\n",
        "\n",
        "    # Categorical data\n",
        "categ = [\"book_authors\", \"book_title\", \"genres\"]\n",
        "\n",
        "for j in range(len(categ)):\n",
        "    bin = LabelBinarizer().fit(df[categ[j]])\n",
        "    if j == 0:\n",
        "            trainFull = np.hstack([trainCont, bin.transform(train[categ[j]])])\n",
        "            testFull = np.hstack([testCont, bin.transform(test[categ[j]])])\n",
        "    else:\n",
        "            trainFull = np.hstack([trainFull, bin.transform(train[categ[j]])])\n",
        "            testFull = np.hstack([testFull, bin.transform(test[categ[j]])])\n"
      ],
      "execution_count": 0,
      "outputs": []
    },
    {
      "cell_type": "code",
      "metadata": {
        "id": "1K3wz6DS08tW",
        "colab_type": "code",
        "colab": {}
      },
      "source": [
        "def create_mlp(dim, regress=False):\n",
        "        # define our MLP network\n",
        "        model = Sequential()\n",
        "        model.add(Dense(8, input_dim=dim, activation=\"relu\"))\n",
        "        model.add(Dense(4, activation=\"relu\"))\n",
        "\n",
        "        # check to see if the regression node should be added\n",
        "        if regress:\n",
        "            model.add(Dense(1, activation=\"linear\"))\n",
        "\n",
        "        # return our model\n",
        "        return model"
      ],
      "execution_count": 0,
      "outputs": []
    },
    {
      "cell_type": "code",
      "metadata": {
        "id": "t6_nu1qS2L8N",
        "colab_type": "code",
        "colab": {}
      },
      "source": [
        "model_NN = create_mlp(trainFull.shape[1], regress=True)\n",
        "opt = Adam(lr=1e-3, decay=1e-3 / 200)\n",
        "model_NN.compile(loss=\"mean_absolute_percentage_error\", optimizer=opt)"
      ],
      "execution_count": 0,
      "outputs": []
    },
    {
      "cell_type": "code",
      "metadata": {
        "id": "TIvEvv2p2ZRp",
        "colab_type": "code",
        "outputId": "177696d4-0411-491a-f46f-aec116bc5dbc",
        "colab": {
          "base_uri": "https://localhost:8080/",
          "height": 764
        }
      },
      "source": [
        "model_NN.fit(trainFull,train_Y,validation_data=(testFull,test_Y),epochs=20,batch_size=8)"
      ],
      "execution_count": 0,
      "outputs": [
        {
          "output_type": "stream",
          "text": [
            "Train on 90 samples, validate on 10 samples\n",
            "Epoch 1/20\n",
            "90/90 [==============================] - 0s 272us/step - loss: 1.7968 - val_loss: 7.4840\n",
            "Epoch 2/20\n",
            "90/90 [==============================] - 0s 235us/step - loss: 1.5952 - val_loss: 7.9898\n",
            "Epoch 3/20\n",
            "90/90 [==============================] - 0s 226us/step - loss: 1.3106 - val_loss: 7.7100\n",
            "Epoch 4/20\n",
            "90/90 [==============================] - 0s 291us/step - loss: 1.2451 - val_loss: 8.1944\n",
            "Epoch 5/20\n",
            "90/90 [==============================] - 0s 253us/step - loss: 1.2523 - val_loss: 8.3798\n",
            "Epoch 6/20\n",
            "90/90 [==============================] - 0s 263us/step - loss: 1.5803 - val_loss: 7.4995\n",
            "Epoch 7/20\n",
            "90/90 [==============================] - 0s 253us/step - loss: 1.2537 - val_loss: 8.1566\n",
            "Epoch 8/20\n",
            "90/90 [==============================] - 0s 259us/step - loss: 1.2675 - val_loss: 7.7765\n",
            "Epoch 9/20\n",
            "90/90 [==============================] - 0s 257us/step - loss: 1.0045 - val_loss: 7.1978\n",
            "Epoch 10/20\n",
            "90/90 [==============================] - 0s 259us/step - loss: 1.2982 - val_loss: 7.8557\n",
            "Epoch 11/20\n",
            "90/90 [==============================] - 0s 241us/step - loss: 1.1522 - val_loss: 7.6222\n",
            "Epoch 12/20\n",
            "90/90 [==============================] - 0s 261us/step - loss: 1.1335 - val_loss: 7.6072\n",
            "Epoch 13/20\n",
            "90/90 [==============================] - 0s 281us/step - loss: 0.9748 - val_loss: 7.7754\n",
            "Epoch 14/20\n",
            "90/90 [==============================] - 0s 254us/step - loss: 0.9704 - val_loss: 7.8168\n",
            "Epoch 15/20\n",
            "90/90 [==============================] - 0s 267us/step - loss: 0.9090 - val_loss: 7.7498\n",
            "Epoch 16/20\n",
            "90/90 [==============================] - 0s 260us/step - loss: 0.9178 - val_loss: 7.5379\n",
            "Epoch 17/20\n",
            "90/90 [==============================] - 0s 255us/step - loss: 1.0190 - val_loss: 7.9008\n",
            "Epoch 18/20\n",
            "90/90 [==============================] - 0s 228us/step - loss: 0.8812 - val_loss: 7.6691\n",
            "Epoch 19/20\n",
            "90/90 [==============================] - 0s 218us/step - loss: 0.8901 - val_loss: 8.1666\n",
            "Epoch 20/20\n",
            "90/90 [==============================] - 0s 220us/step - loss: 0.8037 - val_loss: 7.5549\n"
          ],
          "name": "stdout"
        },
        {
          "output_type": "execute_result",
          "data": {
            "text/plain": [
              "<keras.callbacks.callbacks.History at 0x7fd3d23bfa90>"
            ]
          },
          "metadata": {
            "tags": []
          },
          "execution_count": 310
        }
      ]
    },
    {
      "cell_type": "code",
      "metadata": {
        "id": "tO7MPFmz2i8Z",
        "colab_type": "code",
        "outputId": "e6b1df16-b2a2-4591-db37-62f4da7ffd93",
        "colab": {
          "base_uri": "https://localhost:8080/",
          "height": 52
        }
      },
      "source": [
        "diff = preds_test.flatten() - test_Y\n",
        "percentDiff = (diff / test_Y) * 100\n",
        "absPercentDiff = np.abs(percentDiff)\n",
        "mean = np.mean(absPercentDiff)\n",
        "std = np.std(absPercentDiff)\n",
        "print(model_NN.evaluate(trainFull,train_Y))"
      ],
      "execution_count": 0,
      "outputs": [
        {
          "output_type": "stream",
          "text": [
            "90/90 [==============================] - 0s 71us/step\n",
            "0.8486645566092597\n"
          ],
          "name": "stdout"
        }
      ]
    },
    {
      "cell_type": "markdown",
      "metadata": {
        "id": "hGYOPdu_26Pp",
        "colab_type": "text"
      },
      "source": [
        "# Judging Book by its cover and description "
      ]
    },
    {
      "cell_type": "code",
      "metadata": {
        "id": "u1Ut5_3H2sjN",
        "colab_type": "code",
        "colab": {}
      },
      "source": [
        "mlp = create_mlp(trainFull.shape[1], regress=False)\n",
        "cnn = create_cnn(32, 32, 3, regress=False)"
      ],
      "execution_count": 0,
      "outputs": []
    },
    {
      "cell_type": "markdown",
      "metadata": {
        "id": "kekDGcI03gyJ",
        "colab_type": "text"
      },
      "source": [
        "* SHOW TIME!!!"
      ]
    },
    {
      "cell_type": "code",
      "metadata": {
        "id": "D_CCs0gA3Nc0",
        "colab_type": "code",
        "colab": {}
      },
      "source": [
        "combinedInput = concatenate([mlp.output, cnn.output])"
      ],
      "execution_count": 0,
      "outputs": []
    },
    {
      "cell_type": "code",
      "metadata": {
        "id": "7qkziUsy3kvL",
        "colab_type": "code",
        "colab": {}
      },
      "source": [
        " x = Dense(4, activation=\"relu\")(combinedInput)\n",
        "x = Dense(1, activation=\"linear\")(x)"
      ],
      "execution_count": 0,
      "outputs": []
    },
    {
      "cell_type": "code",
      "metadata": {
        "id": "SlPsXf6L3n2f",
        "colab_type": "code",
        "colab": {}
      },
      "source": [
        "model = Model(inputs=[mlp.input, cnn.input], outputs=x)\n",
        "opt = Adam(lr=1e-3, decay=1e-3 / 200)\n",
        "model.compile(loss=\"mean_absolute_percentage_error\", optimizer=opt)\n"
      ],
      "execution_count": 0,
      "outputs": []
    },
    {
      "cell_type": "code",
      "metadata": {
        "id": "HeuZN-I63uRL",
        "colab_type": "code",
        "outputId": "c0923982-1bd1-42bd-a5fc-f80ac091e10f",
        "colab": {
          "base_uri": "https://localhost:8080/",
          "height": 746
        }
      },
      "source": [
        " m = model.fit(\n",
        "                [trainFull, train_x], train_Y,\n",
        "                validation_data=([testFull, test_x], test_Y),\n",
        "                epochs=20, batch_size=8)\n"
      ],
      "execution_count": 0,
      "outputs": [
        {
          "output_type": "stream",
          "text": [
            "Train on 90 samples, validate on 10 samples\n",
            "Epoch 1/20\n",
            "90/90 [==============================] - 0s 2ms/step - loss: 1.0574 - val_loss: 9.8679\n",
            "Epoch 2/20\n",
            "90/90 [==============================] - 0s 2ms/step - loss: 1.1491 - val_loss: 9.9923\n",
            "Epoch 3/20\n",
            "90/90 [==============================] - 0s 2ms/step - loss: 1.2518 - val_loss: 10.2497\n",
            "Epoch 4/20\n",
            "90/90 [==============================] - 0s 2ms/step - loss: 1.0112 - val_loss: 10.4258\n",
            "Epoch 5/20\n",
            "90/90 [==============================] - 0s 2ms/step - loss: 1.1563 - val_loss: 10.5534\n",
            "Epoch 6/20\n",
            "90/90 [==============================] - 0s 2ms/step - loss: 0.9853 - val_loss: 10.7741\n",
            "Epoch 7/20\n",
            "90/90 [==============================] - 0s 2ms/step - loss: 1.6409 - val_loss: 10.6676\n",
            "Epoch 8/20\n",
            "90/90 [==============================] - 0s 2ms/step - loss: 1.6274 - val_loss: 10.8516\n",
            "Epoch 9/20\n",
            "90/90 [==============================] - 0s 2ms/step - loss: 1.2446 - val_loss: 11.2312\n",
            "Epoch 10/20\n",
            "90/90 [==============================] - 0s 3ms/step - loss: 0.9825 - val_loss: 10.8936\n",
            "Epoch 11/20\n",
            "90/90 [==============================] - 0s 2ms/step - loss: 1.0734 - val_loss: 10.8491\n",
            "Epoch 12/20\n",
            "90/90 [==============================] - 0s 2ms/step - loss: 1.0250 - val_loss: 10.9548\n",
            "Epoch 13/20\n",
            "90/90 [==============================] - 0s 2ms/step - loss: 0.9607 - val_loss: 11.0081\n",
            "Epoch 14/20\n",
            "90/90 [==============================] - 0s 2ms/step - loss: 0.9741 - val_loss: 10.9313\n",
            "Epoch 15/20\n",
            "90/90 [==============================] - 0s 2ms/step - loss: 0.8011 - val_loss: 10.7701\n",
            "Epoch 16/20\n",
            "90/90 [==============================] - 0s 2ms/step - loss: 1.5236 - val_loss: 10.2270\n",
            "Epoch 17/20\n",
            "90/90 [==============================] - 0s 2ms/step - loss: 1.5762 - val_loss: 10.2808\n",
            "Epoch 18/20\n",
            "90/90 [==============================] - 0s 2ms/step - loss: 1.3421 - val_loss: 10.3146\n",
            "Epoch 19/20\n",
            "90/90 [==============================] - 0s 2ms/step - loss: 0.9910 - val_loss: 10.3695\n",
            "Epoch 20/20\n",
            "90/90 [==============================] - 0s 2ms/step - loss: 0.8915 - val_loss: 10.7817\n"
          ],
          "name": "stdout"
        }
      ]
    },
    {
      "cell_type": "code",
      "metadata": {
        "id": "CfI1A-Y54AfK",
        "colab_type": "code",
        "outputId": "29c04739-f0b3-488b-cb1b-a73275b8a7c2",
        "colab": {
          "base_uri": "https://localhost:8080/",
          "height": 52
        }
      },
      "source": [
        "print(model.evaluate([trainFull,train_x],train_Y))"
      ],
      "execution_count": 0,
      "outputs": [
        {
          "output_type": "stream",
          "text": [
            "90/90 [==============================] - 0s 628us/step\n",
            "0.9356112480163574\n"
          ],
          "name": "stdout"
        }
      ]
    },
    {
      "cell_type": "code",
      "metadata": {
        "id": "ForxVaL24KGy",
        "colab_type": "code",
        "colab": {}
      },
      "source": [
        ""
      ],
      "execution_count": 0,
      "outputs": []
    }
  ]
}